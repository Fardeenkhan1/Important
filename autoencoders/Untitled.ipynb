{
 "cells": [
  {
   "cell_type": "code",
   "execution_count": 1,
   "id": "e14c56d2",
   "metadata": {},
   "outputs": [],
   "source": [
    "import numpy as np\n",
    "import matplotlib.pyplot as plt\n",
    "import tensorflow as tf\n",
    "from tensorflow.keras.layers import Dense, Conv2D, MaxPooling2D,UpSampling2D"
   ]
  },
  {
   "cell_type": "code",
   "execution_count": 2,
   "id": "9abfb609",
   "metadata": {},
   "outputs": [],
   "source": [
    "np.random.seed(42)\n",
    "tf.random.set_seed(42)\n",
    "batch_size = 256\n",
    "max_epochs = 50\n",
    "filters = [32, 32, 16]"
   ]
  },
  {
   "cell_type": "code",
   "execution_count": 3,
   "id": "413fc152",
   "metadata": {},
   "outputs": [],
   "source": [
    "(x_train, _), (x_test, _) = tf.keras.datasets.mnist.load_data()\n",
    "\n",
    "x_train = x_train / 255.\n",
    "x_test = x_test / 255.\n",
    "\n",
    "x_train = np.reshape(x_train, (len(x_train),28, 28, 1))\n",
    "x_test = np.reshape(x_test, (len(x_test), 28, 28, 1))\n",
    "\n",
    "noise = 0.5\n",
    "\n",
    "x_train_noisy = x_train + noise * np.random.normal(loc=0.0,scale=1.0, size=x_train.shape)\n",
    "x_test_noisy = x_test + noise * np.random.normal(loc=0.0,scale=1.0, size=x_test.shape)\n",
    "\n",
    "x_train_noisy = np.clip(x_train_noisy, 0, 1)\n",
    "x_test_noisy = np.clip(x_test_noisy, 0, 1)\n",
    "\n",
    "x_train_noisy = x_train_noisy.astype('float32')\n",
    "x_test_noisy = x_test_noisy.astype('float32')\n"
   ]
  },
  {
   "cell_type": "code",
   "execution_count": 4,
   "id": "c24975ed",
   "metadata": {},
   "outputs": [],
   "source": [
    "class Encoder(tf.keras.layers.Layer):\n",
    "    def __init__(self, filters):\n",
    "        super(Encoder, self).__init__()\n",
    "        self.conv1 = Conv2D(filters = filters[0], kernel_size = 3,\n",
    "strides = 1, padding = 'same', activation = 'relu', input_shape = (28, 28, 1))\n",
    "        self.conv2 = Conv2D(filters = filters[1], kernel_size = 3,\n",
    "strides = 1, padding = 'same', activation = 'relu')\n",
    "        self.conv3 = Conv2D(filters = filters[2], kernel_size = 3,\n",
    "strides = 1, padding = 'same', activation = 'relu')\n",
    "        self.pool = MaxPooling2D((2,2), padding = 'same')\n",
    "        \n",
    "    def call(self, input_features):\n",
    "        x = self.conv1(input_features)\n",
    "        x = self.pool(x)\n",
    "        x = self.conv2(x)\n",
    "        x = self.pool(x)\n",
    "        x = self.conv3(x)\n",
    "        x = self.pool(x)\n",
    "        return x"
   ]
  },
  {
   "cell_type": "code",
   "execution_count": 5,
   "id": "e3639a10",
   "metadata": {},
   "outputs": [],
   "source": [
    "class Decoder(tf.keras.layers.Layer):\n",
    "    def __init__(self, filters):\n",
    "        super(Decoder, self).__init__()\n",
    "        self.conv1 = Conv2D(filters = filters[2], kernel_size = 3,\n",
    "strides = 1, activation = 'relu', padding = 'same')\n",
    "        self.conv2 = Conv2D(filters = filters[1], kernel_size = 3,\n",
    "strides = 1, padding = 'same', activation = 'relu')\n",
    "        self.conv3 = Conv2D(filters = filters[0], kernel_size = 3,\n",
    "strides = 1, padding = 'valid', activation = 'relu')\n",
    "        self.conv4 = Conv2D(1, 3, 1, activation = 'sigmoid', padding = 'same')\n",
    "        self.upsample = UpSampling2D((2,2))\n",
    "    def call(self, encoded):\n",
    "        x = self.conv1(encoded)\n",
    "#         print(\"conv1\", x.shape)\n",
    "        x = self.upsample(x)\n",
    "#         print(\"ups1\", x.shape)\n",
    "        x = self.conv2(x)\n",
    "#         print(\"conv2\", x.shape)\n",
    "        x = self.upsample(x)\n",
    "#         print(\"ups2\", x.shape)\n",
    "        x = self.conv3(x)\n",
    "#         print(\"conv3\", x.shape)\n",
    "        x = self.upsample(x)\n",
    "#         print(\"ups3\", x.shape)\n",
    "        x = self.conv4(x)\n",
    "#         print(\"conv4\", x.shape)\n",
    "        return x"
   ]
  },
  {
   "cell_type": "code",
   "execution_count": 6,
   "id": "ab7f9101",
   "metadata": {},
   "outputs": [],
   "source": [
    "class Autoencoder(tf.keras.Model):\n",
    "    def __init__(self, filters):\n",
    "        super(Autoencoder, self).__init__()\n",
    "        self.encoder = Encoder(filters)\n",
    "        self.decoder = Decoder(filters)\n",
    "        \n",
    "    def call(self, input_features):\n",
    "        #print(input_features.shape)\n",
    "        encoded = self.encoder(input_features)\n",
    "#         print('encoded.shape', encoded.shape)\n",
    "        reconstructed = self.decoder(encoded)\n",
    "#         print('reconstructed.shape', reconstructed.shape)\n",
    "        return reconstructed"
   ]
  },
  {
   "cell_type": "code",
   "execution_count": 7,
   "id": "07f46824",
   "metadata": {},
   "outputs": [],
   "source": [
    "model = Autoencoder(filters)\n",
    "model.compile(loss = 'binary_crossentropy', optimizer = 'adam')"
   ]
  },
  {
   "cell_type": "code",
   "execution_count": null,
   "id": "9d6965aa",
   "metadata": {},
   "outputs": [
    {
     "name": "stdout",
     "output_type": "stream",
     "text": [
      "Epoch 1/50\n",
      " 21/235 [=>............................] - ETA: 5:08 - loss: 0.5024"
     ]
    }
   ],
   "source": [
    "history = model.fit(x_train_noisy,\n",
    "                    x_train,\n",
    "                    validation_data = (x_test_noisy, x_test),\n",
    "                    epochs = max_epochs,\n",
    "                    batch_size = batch_size)"
   ]
  },
  {
   "cell_type": "code",
   "execution_count": null,
   "id": "273cdd78",
   "metadata": {},
   "outputs": [],
   "source": []
  }
 ],
 "metadata": {
  "kernelspec": {
   "display_name": "Python 3",
   "language": "python",
   "name": "python3"
  },
  "language_info": {
   "codemirror_mode": {
    "name": "ipython",
    "version": 3
   },
   "file_extension": ".py",
   "mimetype": "text/x-python",
   "name": "python",
   "nbconvert_exporter": "python",
   "pygments_lexer": "ipython3",
   "version": "3.8.8"
  }
 },
 "nbformat": 4,
 "nbformat_minor": 5
}
