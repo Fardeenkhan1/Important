{
 "cells": [
  {
   "cell_type": "code",
   "execution_count": 64,
   "id": "3a4ff9cf",
   "metadata": {},
   "outputs": [],
   "source": [
    "import numpy as np\n",
    "import tensorflow as tf\n",
    "import matplotlib.pyplot as plt"
   ]
  },
  {
   "cell_type": "code",
   "execution_count": 65,
   "id": "08bc834d",
   "metadata": {},
   "outputs": [],
   "source": [
    "hidden_dim = 128\n",
    "original_dim = 784\n",
    "max_epochs = 20\n",
    "batch_size = 256\n",
    "eta = 1e-3\n",
    "momentum = 8e-1"
   ]
  },
  {
   "cell_type": "code",
   "execution_count": 66,
   "id": "c886557f",
   "metadata": {},
   "outputs": [],
   "source": [
    "(X_train, _), (X_test, _) = tf.keras.datasets.mnist.load_data()\n",
    "X_train = X_train / 255.0\n",
    "X_test = X_test / 255.0\n",
    "\n",
    "X_train = X_train.astype(np.float32)\n",
    "X_test = X_test.astype(np.float32)\n",
    "\n",
    "X_train = np.reshape(X_train, (X_train.shape[0], original_dim))\n",
    "X_test = np.reshape(X_test, (X_test.shape[0], original_dim))\n",
    "# X_test = np.random.shuffle(X_test)\n",
    "training_dataset = tf.data.Dataset.from_tensor_slices(X_train).shuffle(60000).batch(batch_size)"
   ]
  },
  {
   "cell_type": "code",
   "execution_count": 67,
   "id": "7a30c545",
   "metadata": {},
   "outputs": [],
   "source": [
    "class Encoder(tf.keras.layers.Layer):\n",
    "    def __init__(self, hidden_dim):\n",
    "        super(Encoder, self).__init__()\n",
    "        self.hidden_layer = tf.keras.layers.Dense(units = hidden_dim,\n",
    "            activation = tf.nn.relu, activity_regularizer = tf.keras.regularizers.l1(10e-5))\n",
    "        \n",
    "    def call(self, input_features):\n",
    "        activation = self.hidden_layer(input_features)\n",
    "        return activation"
   ]
  },
  {
   "cell_type": "code",
   "execution_count": 68,
   "id": "f982d391",
   "metadata": {},
   "outputs": [],
   "source": [
    "class Decoder(tf.keras.layers.Layer):\n",
    "    def __init__(self, original_dim):\n",
    "        super(Decoder, self).__init__()\n",
    "        self.hidden_layer = tf.keras.layers.Dense(units = original_dim, activation = tf.nn.relu)\n",
    "    \n",
    "    def call(self, encoded_features):\n",
    "        reconstructed = self.hidden_layer(encoded_features)\n",
    "        return reconstructed"
   ]
  },
  {
   "cell_type": "code",
   "execution_count": 69,
   "id": "165032f9",
   "metadata": {},
   "outputs": [],
   "source": [
    "class AutoEncoder(tf.keras.Model):\n",
    "    def __init__(self, hidden_dim, original_dim):\n",
    "        super(AutoEncoder, self).__init__()\n",
    "        self.loss = []\n",
    "        self.encoder = Encoder(hidden_dim)\n",
    "        self.decoder = Decoder(original_dim)\n",
    "        \n",
    "    def call(self, input_features):\n",
    "        encoded = self.encoder(input_features)\n",
    "        reconstructed = self.decoder(encoded)\n",
    "        return reconstructed"
   ]
  },
  {
   "cell_type": "code",
   "execution_count": 70,
   "id": "6b08b29f",
   "metadata": {},
   "outputs": [],
   "source": [
    "autoencoder = AutoEncoder(hidden_dim, original_dim)\n",
    "opt = tf.optimizers.Adam(learning_rate = eta)"
   ]
  },
  {
   "cell_type": "code",
   "execution_count": 71,
   "id": "57e68c66",
   "metadata": {},
   "outputs": [],
   "source": [
    "def loss(preds, real):\n",
    "    return tf.reduce_mean(tf.square(tf.subtract(preds, real)))"
   ]
  },
  {
   "cell_type": "code",
   "execution_count": 72,
   "id": "38deb559",
   "metadata": {},
   "outputs": [],
   "source": [
    "def train(model, original, opt):\n",
    "    with tf.GradientTape() as tape:\n",
    "        reconstructed = model(original)\n",
    "        recon_loss = loss(reconstructed, original)\n",
    "    gradients = tape.gradient(recon_loss, model.trainable_weights)\n",
    "    gradients_variables = zip(gradients, model.trainable_weights)\n",
    "    opt.apply_gradients(gradients_variables)\n",
    "    return recon_loss"
   ]
  },
  {
   "cell_type": "code",
   "execution_count": 73,
   "id": "82094e9a",
   "metadata": {},
   "outputs": [],
   "source": [
    "def train_loop(model, dataset, opt, epochs):\n",
    "    for epoch in range(epochs):\n",
    "        epoch_loss = 0\n",
    "        for step, batch_features in enumerate(dataset):\n",
    "            loss_values = train(model, batch_features, opt)\n",
    "            epoch_loss += loss_values\n",
    "        model.loss.append(epoch_loss/step)\n",
    "        print('Epochs: %d, Loss: %.6f' % (epoch, epoch_loss.numpy()))"
   ]
  },
  {
   "cell_type": "code",
   "execution_count": 74,
   "id": "f4430015",
   "metadata": {
    "scrolled": true
   },
   "outputs": [
    {
     "name": "stdout",
     "output_type": "stream",
     "text": [
      "Epochs: 0, Loss: 5.892091\n",
      "Epochs: 1, Loss: 1.899281\n",
      "Epochs: 2, Loss: 1.493314\n",
      "Epochs: 3, Loss: 1.324784\n",
      "Epochs: 4, Loss: 1.222508\n",
      "Epochs: 5, Loss: 1.166285\n",
      "Epochs: 6, Loss: 1.124863\n",
      "Epochs: 7, Loss: 1.086475\n",
      "Epochs: 8, Loss: 1.062794\n",
      "Epochs: 9, Loss: 1.045334\n",
      "Epochs: 10, Loss: 1.033882\n",
      "Epochs: 11, Loss: 1.023013\n",
      "Epochs: 12, Loss: 1.012395\n",
      "Epochs: 13, Loss: 1.005548\n",
      "Epochs: 14, Loss: 0.993956\n",
      "Epochs: 15, Loss: 0.985428\n",
      "Epochs: 16, Loss: 0.981316\n",
      "Epochs: 17, Loss: 0.977882\n",
      "Epochs: 18, Loss: 0.973383\n",
      "Epochs: 19, Loss: 0.971104\n"
     ]
    }
   ],
   "source": [
    "train_loop(autoencoder, training_dataset, opt, max_epochs)"
   ]
  },
  {
   "cell_type": "code",
   "execution_count": 75,
   "id": "85f7946d",
   "metadata": {},
   "outputs": [
    {
     "data": {
      "image/png": "[encoded data removed]",
      "text/plain": [
       "<Figure size 432x288 with 1 Axes>"
      ]
     },
     "metadata": {
      "needs_background": "light"
     },
     "output_type": "display_data"
    }
   ],
   "source": [
    "plt.plot(range(max_epochs), autoencoder.loss)\n",
    "plt.show()"
   ]
  },
  {
   "cell_type": "code",
   "execution_count": 76,
   "id": "18e4c0d6",
   "metadata": {},
   "outputs": [
    {
     "data": {
      "image/png": "[encoded data removed]",
      "text/plain": [
       "<Figure size 1440x576 with 20 Axes>"
      ]
     },
     "metadata": {
      "needs_background": "light"
     },
     "output_type": "display_data"
    }
   ],
   "source": [
    "reconstructed = autoencoder(X_test)\n",
    "number = 10\n",
    "plt.figure(figsize = (20, 8))\n",
    "for index in range(number):\n",
    "    ax = plt.subplot(2, number, index + 1)\n",
    "    plt.imshow(X_test[index].reshape(28, 28), cmap = 'gray')\n",
    "    ax.get_xaxis().set_visible(False)\n",
    "    ax.get_yaxis().set_visible(False)\n",
    "    \n",
    "    ax = plt.subplot(2, number, index + 1 + number)\n",
    "    plt.imshow(reconstructed[index].numpy().reshape(28, 28), cmap = 'gray')\n",
    "    ax.get_xaxis().set_visible(False)\n",
    "    ax.get_yaxis().set_visible(False)\n",
    "plt.show()"
   ]
  },
  {
   "cell_type": "code",
   "execution_count": null,
   "id": "c5e1e2e6",
   "metadata": {},
   "outputs": [],
   "source": []
  }
 ],
 "metadata": {
  "kernelspec": {
   "display_name": "Python 3",
   "language": "python",
   "name": "python3"
  },
  "language_info": {
   "codemirror_mode": {
    "name": "ipython",
    "version": 3
   },
   "file_extension": ".py",
   "mimetype": "text/x-python",
   "name": "python",
   "nbconvert_exporter": "python",
   "pygments_lexer": "ipython3",
   "version": "3.8.8"
  }
 },
 "nbformat": 4,
 "nbformat_minor": 5
}
