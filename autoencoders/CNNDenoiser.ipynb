{
  "nbformat": 4,
  "nbformat_minor": 5,
  "metadata": {
    "kernelspec": {
      "display_name": "Python 3",
      "language": "python",
      "name": "python3"
    },
    "language_info": {
      "codemirror_mode": {
        "name": "ipython",
        "version": 3
      },
      "file_extension": ".py",
      "mimetype": "text/x-python",
      "name": "python",
      "nbconvert_exporter": "python",
      "pygments_lexer": "ipython3",
      "version": "3.8.8"
    },
    "colab": {
      "name": "Untitled.ipynb",
      "provenance": [],
      "collapsed_sections": []
    },
    "accelerator": "GPU"
  },
  "cells": [
    {
      "cell_type": "code",
      "metadata": {
        "id": "e14c56d2"
      },
      "source": [
        "import numpy as np\n",
        "import matplotlib.pyplot as plt\n",
        "import tensorflow as tf\n",
        "from tensorflow.keras.layers import Dense, Conv2D, MaxPooling2D,UpSampling2D"
      ],
      "id": "e14c56d2",
      "execution_count": 1,
      "outputs": []
    },
    {
      "cell_type": "code",
      "metadata": {
        "id": "9abfb609"
      },
      "source": [
        "np.random.seed(42)\n",
        "tf.random.set_seed(42)\n",
        "batch_size = 256\n",
        "max_epochs = 50\n",
        "filters = [32, 32, 16]"
      ],
      "id": "9abfb609",
      "execution_count": 2,
      "outputs": []
    },
    {
      "cell_type": "code",
      "metadata": {
        "colab": {
          "base_uri": "https://localhost:8080/"
        },
        "id": "413fc152",
        "outputId": "266d6c2e-d9ae-4323-cd86-3dbc0ddde79f"
      },
      "source": [
        "(x_train, _), (x_test, _) = tf.keras.datasets.mnist.load_data()\n",
        "\n",
        "x_train = x_train / 255.\n",
        "x_test = x_test / 255.\n",
        "\n",
        "x_train = np.reshape(x_train, (len(x_train),28, 28, 1))\n",
        "x_test = np.reshape(x_test, (len(x_test), 28, 28, 1))\n",
        "\n",
        "noise = 0.5\n",
        "\n",
        "x_train_noisy = x_train + noise * np.random.normal(loc=0.0,scale=1.0, size=x_train.shape)\n",
        "x_test_noisy = x_test + noise * np.random.normal(loc=0.0,scale=1.0, size=x_test.shape)\n",
        "\n",
        "x_train_noisy = np.clip(x_train_noisy, 0, 1)\n",
        "x_test_noisy = np.clip(x_test_noisy, 0, 1)\n",
        "\n",
        "x_train_noisy = x_train_noisy.astype('float32')\n",
        "x_test_noisy = x_test_noisy.astype('float32')\n"
      ],
      "id": "413fc152",
      "execution_count": 3,
      "outputs": [
        {
          "output_type": "stream",
          "text": [
            "Downloading data from https://storage.googleapis.com/tensorflow/tf-keras-datasets/mnist.npz\n",
            "11493376/11490434 [==============================] - 0s 0us/step\n"
          ],
          "name": "stdout"
        }
      ]
    },
    {
      "cell_type": "code",
      "metadata": {
        "id": "c24975ed"
      },
      "source": [
        "class Encoder(tf.keras.layers.Layer):\n",
        "    def __init__(self, filters):\n",
        "        super(Encoder, self).__init__()\n",
        "        self.conv1 = Conv2D(filters = filters[0], kernel_size = 3,\n",
        "strides = 1, padding = 'same', activation = 'relu', input_shape = (28, 28, 1))\n",
        "        self.conv2 = Conv2D(filters = filters[1], kernel_size = 3,\n",
        "strides = 1, padding = 'same', activation = 'relu')\n",
        "        self.conv3 = Conv2D(filters = filters[2], kernel_size = 3,\n",
        "strides = 1, padding = 'same', activation = 'relu')\n",
        "        self.pool = MaxPooling2D((2,2), padding = 'same')\n",
        "        \n",
        "    def call(self, input_features):\n",
        "        x = self.conv1(input_features)\n",
        "        x = self.pool(x)\n",
        "        x = self.conv2(x)\n",
        "        x = self.pool(x)\n",
        "        x = self.conv3(x)\n",
        "        x = self.pool(x)\n",
        "        return x"
      ],
      "id": "c24975ed",
      "execution_count": 4,
      "outputs": []
    },
    {
      "cell_type": "code",
      "metadata": {
        "id": "e3639a10"
      },
      "source": [
        "class Decoder(tf.keras.layers.Layer):\n",
        "    def __init__(self, filters):\n",
        "        super(Decoder, self).__init__()\n",
        "        self.conv1 = Conv2D(filters = filters[2], kernel_size = 3,\n",
        "strides = 1, activation = 'relu', padding = 'same')\n",
        "        self.conv2 = Conv2D(filters = filters[1], kernel_size = 3,\n",
        "strides = 1, padding = 'same', activation = 'relu')\n",
        "        self.conv3 = Conv2D(filters = filters[0], kernel_size = 3,\n",
        "strides = 1, padding = 'valid', activation = 'relu')\n",
        "        self.conv4 = Conv2D(1, 3, 1, activation = 'sigmoid', padding = 'same')\n",
        "        self.upsample = UpSampling2D((2,2))\n",
        "    def call(self, encoded):\n",
        "        x = self.conv1(encoded)\n",
        "#         print(\"conv1\", x.shape)\n",
        "        x = self.upsample(x)\n",
        "#         print(\"ups1\", x.shape)\n",
        "        x = self.conv2(x)\n",
        "#         print(\"conv2\", x.shape)\n",
        "        x = self.upsample(x)\n",
        "#         print(\"ups2\", x.shape)\n",
        "        x = self.conv3(x)\n",
        "#         print(\"conv3\", x.shape)\n",
        "        x = self.upsample(x)\n",
        "#         print(\"ups3\", x.shape)\n",
        "        x = self.conv4(x)\n",
        "#         print(\"conv4\", x.shape)\n",
        "        return x"
      ],
      "id": "e3639a10",
      "execution_count": 5,
      "outputs": []
    },
    {
      "cell_type": "code",
      "metadata": {
        "id": "ab7f9101"
      },
      "source": [
        "class Autoencoder(tf.keras.Model):\n",
        "    def __init__(self, filters):\n",
        "        super(Autoencoder, self).__init__()\n",
        "        self.encoder = Encoder(filters)\n",
        "        self.decoder = Decoder(filters)\n",
        "        \n",
        "    def call(self, input_features):\n",
        "        #print(input_features.shape)\n",
        "        encoded = self.encoder(input_features)\n",
        "#         print('encoded.shape', encoded.shape)\n",
        "        reconstructed = self.decoder(encoded)\n",
        "#         print('reconstructed.shape', reconstructed.shape)\n",
        "        return reconstructed"
      ],
      "id": "ab7f9101",
      "execution_count": 6,
      "outputs": []
    },
    {
      "cell_type": "code",
      "metadata": {
        "id": "07f46824"
      },
      "source": [
        "model = Autoencoder(filters)\n",
        "model.compile(loss = 'binary_crossentropy', optimizer = 'adam')"
      ],
      "id": "07f46824",
      "execution_count": 7,
      "outputs": []
    },
    {
      "cell_type": "code",
      "metadata": {
        "colab": {
          "base_uri": "https://localhost:8080/"
        },
        "id": "9d6965aa",
        "outputId": "fdba2766-8834-43f1-acc9-66c33a9521b2"
      },
      "source": [
        "history = model.fit(x_train_noisy,\n",
        "                    x_train,\n",
        "                    validation_data = (x_test_noisy, x_test),\n",
        "                    epochs = max_epochs,\n",
        "                    batch_size = batch_size)"
      ],
      "id": "9d6965aa",
      "execution_count": 8,
      "outputs": [
        {
          "output_type": "stream",
          "text": [
            "Epoch 1/50\n",
            "235/235 [==============================] - 36s 27ms/step - loss: 0.2478 - val_loss: 0.1756\n",
            "Epoch 2/50\n",
            "235/235 [==============================] - 6s 25ms/step - loss: 0.1627 - val_loss: 0.1508\n",
            "Epoch 3/50\n",
            "235/235 [==============================] - 6s 25ms/step - loss: 0.1461 - val_loss: 0.1395\n",
            "Epoch 4/50\n",
            "235/235 [==============================] - 6s 25ms/step - loss: 0.1374 - val_loss: 0.1328\n",
            "Epoch 5/50\n",
            "235/235 [==============================] - 6s 25ms/step - loss: 0.1318 - val_loss: 0.1288\n",
            "Epoch 6/50\n",
            "235/235 [==============================] - 6s 25ms/step - loss: 0.1278 - val_loss: 0.1247\n",
            "Epoch 7/50\n",
            "235/235 [==============================] - 6s 25ms/step - loss: 0.1250 - val_loss: 0.1224\n",
            "Epoch 8/50\n",
            "235/235 [==============================] - 6s 25ms/step - loss: 0.1223 - val_loss: 0.1204\n",
            "Epoch 9/50\n",
            "235/235 [==============================] - 6s 25ms/step - loss: 0.1204 - val_loss: 0.1181\n",
            "Epoch 10/50\n",
            "235/235 [==============================] - 6s 25ms/step - loss: 0.1186 - val_loss: 0.1162\n",
            "Epoch 11/50\n",
            "235/235 [==============================] - 6s 25ms/step - loss: 0.1172 - val_loss: 0.1150\n",
            "Epoch 12/50\n",
            "235/235 [==============================] - 6s 25ms/step - loss: 0.1159 - val_loss: 0.1144\n",
            "Epoch 13/50\n",
            "235/235 [==============================] - 6s 25ms/step - loss: 0.1148 - val_loss: 0.1134\n",
            "Epoch 14/50\n",
            "235/235 [==============================] - 6s 25ms/step - loss: 0.1137 - val_loss: 0.1118\n",
            "Epoch 15/50\n",
            "235/235 [==============================] - 6s 25ms/step - loss: 0.1129 - val_loss: 0.1108\n",
            "Epoch 16/50\n",
            "235/235 [==============================] - 6s 25ms/step - loss: 0.1122 - val_loss: 0.1103\n",
            "Epoch 17/50\n",
            "235/235 [==============================] - 6s 25ms/step - loss: 0.1112 - val_loss: 0.1101\n",
            "Epoch 18/50\n",
            "235/235 [==============================] - 6s 25ms/step - loss: 0.1104 - val_loss: 0.1090\n",
            "Epoch 19/50\n",
            "235/235 [==============================] - 6s 25ms/step - loss: 0.1098 - val_loss: 0.1085\n",
            "Epoch 20/50\n",
            "235/235 [==============================] - 6s 25ms/step - loss: 0.1093 - val_loss: 0.1085\n",
            "Epoch 21/50\n",
            "235/235 [==============================] - 6s 25ms/step - loss: 0.1087 - val_loss: 0.1075\n",
            "Epoch 22/50\n",
            "235/235 [==============================] - 6s 25ms/step - loss: 0.1081 - val_loss: 0.1080\n",
            "Epoch 23/50\n",
            "235/235 [==============================] - 6s 25ms/step - loss: 0.1079 - val_loss: 0.1065\n",
            "Epoch 24/50\n",
            "235/235 [==============================] - 6s 25ms/step - loss: 0.1072 - val_loss: 0.1059\n",
            "Epoch 25/50\n",
            "235/235 [==============================] - 6s 25ms/step - loss: 0.1070 - val_loss: 0.1059\n",
            "Epoch 26/50\n",
            "235/235 [==============================] - 6s 25ms/step - loss: 0.1066 - val_loss: 0.1054\n",
            "Epoch 27/50\n",
            "235/235 [==============================] - 6s 25ms/step - loss: 0.1063 - val_loss: 0.1053\n",
            "Epoch 28/50\n",
            "235/235 [==============================] - 6s 25ms/step - loss: 0.1059 - val_loss: 0.1047\n",
            "Epoch 29/50\n",
            "235/235 [==============================] - 6s 25ms/step - loss: 0.1057 - val_loss: 0.1046\n",
            "Epoch 30/50\n",
            "235/235 [==============================] - 6s 25ms/step - loss: 0.1053 - val_loss: 0.1048\n",
            "Epoch 31/50\n",
            "235/235 [==============================] - 6s 25ms/step - loss: 0.1051 - val_loss: 0.1039\n",
            "Epoch 32/50\n",
            "235/235 [==============================] - 6s 25ms/step - loss: 0.1047 - val_loss: 0.1036\n",
            "Epoch 33/50\n",
            "235/235 [==============================] - 6s 25ms/step - loss: 0.1046 - val_loss: 0.1038\n",
            "Epoch 34/50\n",
            "235/235 [==============================] - 6s 25ms/step - loss: 0.1043 - val_loss: 0.1035\n",
            "Epoch 35/50\n",
            "235/235 [==============================] - 6s 25ms/step - loss: 0.1042 - val_loss: 0.1031\n",
            "Epoch 36/50\n",
            "235/235 [==============================] - 6s 25ms/step - loss: 0.1040 - val_loss: 0.1040\n",
            "Epoch 37/50\n",
            "235/235 [==============================] - 6s 25ms/step - loss: 0.1038 - val_loss: 0.1034\n",
            "Epoch 38/50\n",
            "235/235 [==============================] - 6s 25ms/step - loss: 0.1035 - val_loss: 0.1027\n",
            "Epoch 39/50\n",
            "235/235 [==============================] - 6s 25ms/step - loss: 0.1035 - val_loss: 0.1028\n",
            "Epoch 40/50\n",
            "235/235 [==============================] - 6s 25ms/step - loss: 0.1033 - val_loss: 0.1034\n",
            "Epoch 41/50\n",
            "235/235 [==============================] - 6s 25ms/step - loss: 0.1031 - val_loss: 0.1024\n",
            "Epoch 42/50\n",
            "235/235 [==============================] - 6s 25ms/step - loss: 0.1029 - val_loss: 0.1021\n",
            "Epoch 43/50\n",
            "235/235 [==============================] - 6s 25ms/step - loss: 0.1028 - val_loss: 0.1019\n",
            "Epoch 44/50\n",
            "235/235 [==============================] - 6s 25ms/step - loss: 0.1028 - val_loss: 0.1022\n",
            "Epoch 45/50\n",
            "235/235 [==============================] - 6s 25ms/step - loss: 0.1025 - val_loss: 0.1022\n",
            "Epoch 46/50\n",
            "235/235 [==============================] - 6s 25ms/step - loss: 0.1024 - val_loss: 0.1022\n",
            "Epoch 47/50\n",
            "235/235 [==============================] - 6s 25ms/step - loss: 0.1023 - val_loss: 0.1015\n",
            "Epoch 48/50\n",
            "235/235 [==============================] - 6s 25ms/step - loss: 0.1022 - val_loss: 0.1027\n",
            "Epoch 49/50\n",
            "235/235 [==============================] - 6s 25ms/step - loss: 0.1021 - val_loss: 0.1018\n",
            "Epoch 50/50\n",
            "235/235 [==============================] - 6s 25ms/step - loss: 0.1018 - val_loss: 0.1010\n"
          ],
          "name": "stdout"
        }
      ]
    },
    {
      "cell_type": "code",
      "metadata": {
        "colab": {
          "base_uri": "https://localhost:8080/",
          "height": 296
        },
        "id": "273cdd78",
        "outputId": "a7091340-c6c7-4c57-cb71-ac5c76c9bdce"
      },
      "source": [
        "plt.plot(history.history['loss'])\n",
        "plt.xlabel('Epochs')\n",
        "plt.ylabel('Loss')"
      ],
      "id": "273cdd78",
      "execution_count": 9,
      "outputs": [
        {
          "output_type": "execute_result",
          "data": {
            "text/plain": [
              "Text(0, 0.5, 'Loss')"
            ]
          },
          "metadata": {
            "tags": []
          },
          "execution_count": 9
        },
        {
          "output_type": "display_data",
          "data": {
            "image/png": "[encoded data removed]",
            "text/plain": [
              "<Figure size 432x288 with 1 Axes>"
            ]
          },
          "metadata": {
            "tags": [],
            "needs_background": "light"
          }
        }
      ]
    },
    {
      "cell_type": "code",
      "metadata": {
        "colab": {
          "base_uri": "https://localhost:8080/",
          "height": 366
        },
        "id": "e3hEq8G1wtJT",
        "outputId": "27f42f4c-fc05-4d76-e699-bfd794cbff65"
      },
      "source": [
        "number = 10\n",
        "reconstructed = model(x_test_noisy).numpy()\n",
        "plt.figure(figsize = (20, 8))\n",
        "for index in range(number):\n",
        "  ax = plt.subplot(2, number, index + 1)\n",
        "  plt.imshow(x_test_noisy[index].reshape(28, 28), cmap = 'gray')\n",
        "  ax.get_xaxis().set_visible(False)\n",
        "  ax.get_yaxis().set_visible(False)\n",
        "\n",
        "  ax = plt.subplot(2, number, index + 1 + number)\n",
        "  plt.imshow(reconstructed[index].reshape(28, 28), cmap = 'gray')\n",
        "  ax.get_xaxis().set_visible(False)\n",
        "  ax.get_yaxis().set_visible(False)\n",
        "plt.show()"
      ],
      "id": "e3hEq8G1wtJT",
      "execution_count": 11,
      "outputs": [
        {
          "output_type": "display_data",
          "data": {
            "image/png": "[encoded data removed]",
            "text/plain": [
              "<Figure size 1440x576 with 20 Axes>"
            ]
          },
          "metadata": {
            "tags": [],
            "needs_background": "light"
          }
        }
      ]
    },
    {
      "cell_type": "code",
      "metadata": {
        "id": "yynecYnVxtFU"
      },
      "source": [
        ""
      ],
      "id": "yynecYnVxtFU",
      "execution_count": null,
      "outputs": []
    }
  ]
}