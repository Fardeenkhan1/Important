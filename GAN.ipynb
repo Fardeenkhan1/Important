{
 "cells": [
  {
   "cell_type": "code",
   "execution_count": 1,
   "id": "a553fb28",
   "metadata": {},
   "outputs": [],
   "source": [
    "import os\n",
    "import numpy as np\n",
    "import matplotlib.pyplot as plt\n",
    "import cv2\n",
    "from glob import glob\n",
    "from matplotlib import pyplot\n",
    "from sklearn.utils import shuffle\n",
    "import tensorflow as tf\n",
    "from tensorflow.keras.layers import Conv2D, Conv2DTranspose, LeakyReLU, Dense, Reshape\n",
    "from tensorflow.keras.layers import Flatten, Input, Activation, Dropout, BatchNormalization\n",
    "from tensorflow.keras.models import Model\n",
    "from tensorflow.keras.optimizers import Adam\n",
    "\n",
    "w_init = tf.keras.initializers.RandomNormal(mean = 0.0, stddev = 0.02)"
   ]
  },
  {
   "cell_type": "code",
   "execution_count": 2,
   "id": "eb5807e4",
   "metadata": {},
   "outputs": [],
   "source": [
    "IMG_H = 64\n",
    "IMG_W = 64 \n",
    "IMG_C = 3"
   ]
  },
  {
   "cell_type": "code",
   "execution_count": 3,
   "id": "687127d7",
   "metadata": {},
   "outputs": [],
   "source": [
    "def save_plot(examples, epoch, n):\n",
    "    examples = (examples + 1.0)/2.0\n",
    "    for i in range(n*n):\n",
    "        plt.subplot(n, n, i+1)\n",
    "        plt.axis(\"off\")\n",
    "        plt.imshow(examples[i])\n",
    "    filename = f\"samples/generated_plot_epoch-{epoch+1}.png\"\n",
    "    plt.savefig(filename)\n",
    "    plt.close()"
   ]
  },
  {
   "cell_type": "code",
   "execution_count": 4,
   "id": "27e675b9",
   "metadata": {},
   "outputs": [],
   "source": [
    "def load_image(image_path):\n",
    "    image = tf.io.read_file(image_path)\n",
    "    image = tf.io.decode_png(image)\n",
    "    image = tf.image.resize_with_crop_or_pad(image,IMG_H, IMG_W)\n",
    "    image = tf.cast(image, tf.float32)\n",
    "    image = (image - 127.5) / 127.5\n",
    "    return image"
   ]
  },
  {
   "cell_type": "code",
   "execution_count": 5,
   "id": "03315b64",
   "metadata": {},
   "outputs": [],
   "source": [
    "def tf_dataset(images_path, batch_size):\n",
    "    dataset = tf.data.Dataset.from_tensor_slices(images_path)\n",
    "    dataset = dataset.shuffle(buffer_size = 10240)\n",
    "    dataset = dataset.map(load_image)\n",
    "    dataset = dataset.batch(batch_size)\n",
    "    dataset = dataset.prefetch(buffer_size = 4)\n",
    "    return dataset"
   ]
  },
  {
   "cell_type": "code",
   "execution_count": 6,
   "id": "1b335c16",
   "metadata": {},
   "outputs": [],
   "source": [
    "def deconv_block(inputs, num_filters, kernel_size, strides, bn = True):\n",
    "    x = Conv2DTranspose(\n",
    "        filters = num_filters,\n",
    "        kernel_size = kernel_size,\n",
    "        kernel_initializer = w_init,\n",
    "        use_bias = False,\n",
    "        padding = 'same',\n",
    "        strides = strides)(inputs)\n",
    "    if bn:\n",
    "        x = BatchNormalization()(x)\n",
    "        x = LeakyReLU(alpha = 0.2)(x)\n",
    "    return x"
   ]
  },
  {
   "cell_type": "code",
   "execution_count": 7,
   "id": "0dda4fff",
   "metadata": {},
   "outputs": [],
   "source": [
    "def conv_block(inputs, num_filters, kernel_size, padding = 'same', strides = 2, activation = True):\n",
    "    x = Conv2D(filters = num_filters,\n",
    "        kernel_size = kernel_size,\n",
    "        kernel_initializer = w_init,\n",
    "        strides = strides,\n",
    "        padding = padding\n",
    "        )(inputs)\n",
    "    \n",
    "    if activation:\n",
    "        x = LeakyReLU(alpha = 0.2)(x)\n",
    "        x = Dropout(0.3)(x)\n",
    "    return x"
   ]
  },
  {
   "cell_type": "code",
   "execution_count": 8,
   "id": "e582cc12",
   "metadata": {},
   "outputs": [],
   "source": [
    "def generator(latent_dim):\n",
    "    f = [16, 8, 4, 2, 1]\n",
    "    filters = 32\n",
    "    output_strides = 16\n",
    "    h_output = IMG_H // output_strides\n",
    "    w_output = IMG_W // output_strides\n",
    "    \n",
    "    noise = Input(shape = (latent_dim, ), name = 'gen_noise_input')\n",
    "    \n",
    "    x = Dense(f[0] * filters * h_output * w_output, use_bias = False)(noise)\n",
    "\n",
    "    x = BatchNormalization()(x)\n",
    "    x = LeakyReLU(alpha = 0.2)(x)\n",
    "    x = Reshape((h_output, w_output, f[0]*filters))(x)\n",
    "    \n",
    "    for i in range(1,5):\n",
    "        x = deconv_block(x, num_filters = f[i]*filters, kernel_size = 5, strides = 2, bn = True)\n",
    "    \n",
    "    x = conv_block(x, num_filters = 3, kernel_size = 5, strides = 1, activation = False)\n",
    "    \n",
    "    fake = Activation('tanh')(x)\n",
    "    \n",
    "    return Model(noise, fake, name = 'generator')"
   ]
  },
  {
   "cell_type": "code",
   "execution_count": 9,
   "id": "dea1b5b6",
   "metadata": {},
   "outputs": [],
   "source": [
    "def discriminator():\n",
    "    f = [16, 8, 4, 2, 1]\n",
    "    filters  = 64\n",
    "    image_Input = Input(shape = (IMG_H, IMG_W, IMG_C))\n",
    "    output_strides = 16\n",
    "    h_output = IMG_H // output_strides\n",
    "    w_output = IMG_W // output_strides\n",
    "    \n",
    "    x = image_Input\n",
    "    for i in reversed(range(1,5)):\n",
    "        x = conv_block(x, filters*f[i], kernel_size = 5, strides = 2)\n",
    "    \n",
    "    x = Flatten()(x)\n",
    "    x = Dense(1)(x)\n",
    "    \n",
    "    return Model(image_Input, x, name = 'discriminator')"
   ]
  },
  {
   "cell_type": "code",
   "execution_count": 10,
   "id": "d0ca15a4",
   "metadata": {},
   "outputs": [],
   "source": [
    "class GAN(tf.keras.Model):\n",
    "    def __init__(self, discriminator, generator, latent_dim):\n",
    "        super(GAN, self).__init__()\n",
    "        self.discriminator = discriminator\n",
    "        self.generator = generator\n",
    "        self.latent_dim = latent_dim\n",
    "        \n",
    "    def compile(self, d_optimizer, g_optimizer, loss_fn):\n",
    "        super(GAN, self).compile()\n",
    "        self.d_optimizer = d_optimizer\n",
    "        self.g_optimizer = g_optimizer\n",
    "        self.loss_fn = loss_fn\n",
    "        \n",
    "    def train_step(self, images):\n",
    "        batch_size = tf.shape(images)[0]\n",
    "        \n",
    "        \"\"\"TRAIN DISCRIMINATOR\"\"\"\n",
    "        for _ in range(2):\n",
    "            \"\"\"For Fake Images\"\"\"\n",
    "            random_vectors = tf.random.normal(shape = (batch_size, self.latent_dim))\n",
    "            generated_images = self.generator(random_vectors)\n",
    "            generated_labels = tf.zeros([batch_size, 1])\n",
    "            \n",
    "            with tf.GradientTape() as d1tape:\n",
    "                predictions = self.discriminator(generated_images)\n",
    "                d1_loss = self.loss_fn(generated_labels, predictions)\n",
    "            grads = d1tape.gradient(d1_loss, self.discriminator.trainable_weights)\n",
    "            self.d_optimizer.apply_gradients(zip(grads, self.discriminator.trainable_weights))\n",
    "            \n",
    "            \"\"\"For Real Images\"\"\"\n",
    "            labels = tf.ones([batch_size, 1])\n",
    "            with tf.GradientTape() as d2tape:\n",
    "                predictions = self.discriminator(images)\n",
    "                d2_loss = self.loss_fn(labels, predictions)\n",
    "            grads = d2tape.gradient(d2_loss, self.discriminator.trainable_weights)\n",
    "            self.d_optimizer.apply_gradients(zip(grads, self.discriminator.trainable_weights))\n",
    "            \n",
    "            \n",
    "        \"\"\"TRAINING GENERATOR\"\"\"\n",
    "        random_latent_vectors = tf.random.normal(shape = (batch_size, self.latent_dim))\n",
    "        fake_labels = tf.ones([batch_size, 1])\n",
    "        \n",
    "        with tf.GradientTape() as gtape:\n",
    "            generated_images = self.generator(random_latent_vectors)\n",
    "            predictions = self.discriminator(generated_images)\n",
    "            g_loss = self.loss_fn(fake_labels, predictions)\n",
    "        grads = gtape.gradient(g_loss, self.generator.trainable_weights)\n",
    "        self.g_optimizer.apply_gradients(zip(grads, self.generator.trainable_weights))\n",
    "        \n",
    "        return {'d1_loss' : d1_loss, 'd2_loss' : d2_loss, 'g_loss' : g_loss}"
   ]
  },
  {
   "cell_type": "code",
   "execution_count": 11,
   "id": "a6979651",
   "metadata": {},
   "outputs": [
    {
     "name": "stdout",
     "output_type": "stream",
     "text": [
      "Dataset Size:  21551\n",
      "Model: \"discriminator\"\n",
      "_________________________________________________________________\n",
      "Layer (type)                 Output Shape              Param #   \n",
      "=================================================================\n",
      "input_1 (InputLayer)         [(None, 64, 64, 3)]       0         \n",
      "_________________________________________________________________\n",
      "conv2d (Conv2D)              (None, 32, 32, 64)        4864      \n",
      "_________________________________________________________________\n",
      "leaky_re_lu (LeakyReLU)      (None, 32, 32, 64)        0         \n",
      "_________________________________________________________________\n",
      "dropout (Dropout)            (None, 32, 32, 64)        0         \n",
      "_________________________________________________________________\n",
      "conv2d_1 (Conv2D)            (None, 16, 16, 128)       204928    \n",
      "_________________________________________________________________\n",
      "leaky_re_lu_1 (LeakyReLU)    (None, 16, 16, 128)       0         \n",
      "_________________________________________________________________\n",
      "dropout_1 (Dropout)          (None, 16, 16, 128)       0         \n",
      "_________________________________________________________________\n",
      "conv2d_2 (Conv2D)            (None, 8, 8, 256)         819456    \n",
      "_________________________________________________________________\n",
      "leaky_re_lu_2 (LeakyReLU)    (None, 8, 8, 256)         0         \n",
      "_________________________________________________________________\n",
      "dropout_2 (Dropout)          (None, 8, 8, 256)         0         \n",
      "_________________________________________________________________\n",
      "conv2d_3 (Conv2D)            (None, 4, 4, 512)         3277312   \n",
      "_________________________________________________________________\n",
      "leaky_re_lu_3 (LeakyReLU)    (None, 4, 4, 512)         0         \n",
      "_________________________________________________________________\n",
      "dropout_3 (Dropout)          (None, 4, 4, 512)         0         \n",
      "_________________________________________________________________\n",
      "flatten (Flatten)            (None, 8192)              0         \n",
      "_________________________________________________________________\n",
      "dense (Dense)                (None, 1)                 8193      \n",
      "=================================================================\n",
      "Total params: 4,314,753\n",
      "Trainable params: 4,314,753\n",
      "Non-trainable params: 0\n",
      "_________________________________________________________________\n",
      "Model: \"generator\"\n",
      "_________________________________________________________________\n",
      "Layer (type)                 Output Shape              Param #   \n",
      "=================================================================\n",
      "gen_noise_input (InputLayer) [(None, 128)]             0         \n",
      "_________________________________________________________________\n",
      "dense_1 (Dense)              (None, 8192)              1048576   \n",
      "_________________________________________________________________\n",
      "batch_normalization (BatchNo (None, 8192)              32768     \n",
      "_________________________________________________________________\n",
      "leaky_re_lu_4 (LeakyReLU)    (None, 8192)              0         \n",
      "_________________________________________________________________\n",
      "reshape (Reshape)            (None, 4, 4, 512)         0         \n",
      "_________________________________________________________________\n",
      "conv2d_transpose (Conv2DTran (None, 8, 8, 256)         3276800   \n",
      "_________________________________________________________________\n",
      "batch_normalization_1 (Batch (None, 8, 8, 256)         1024      \n",
      "_________________________________________________________________\n",
      "leaky_re_lu_5 (LeakyReLU)    (None, 8, 8, 256)         0         \n",
      "_________________________________________________________________\n",
      "conv2d_transpose_1 (Conv2DTr (None, 16, 16, 128)       819200    \n",
      "_________________________________________________________________\n",
      "batch_normalization_2 (Batch (None, 16, 16, 128)       512       \n",
      "_________________________________________________________________\n",
      "leaky_re_lu_6 (LeakyReLU)    (None, 16, 16, 128)       0         \n",
      "_________________________________________________________________\n",
      "conv2d_transpose_2 (Conv2DTr (None, 32, 32, 64)        204800    \n",
      "_________________________________________________________________\n",
      "batch_normalization_3 (Batch (None, 32, 32, 64)        256       \n",
      "_________________________________________________________________\n",
      "leaky_re_lu_7 (LeakyReLU)    (None, 32, 32, 64)        0         \n",
      "_________________________________________________________________\n",
      "conv2d_transpose_3 (Conv2DTr (None, 64, 64, 32)        51200     \n",
      "_________________________________________________________________\n",
      "batch_normalization_4 (Batch (None, 64, 64, 32)        128       \n",
      "_________________________________________________________________\n",
      "leaky_re_lu_8 (LeakyReLU)    (None, 64, 64, 32)        0         \n",
      "_________________________________________________________________\n",
      "conv2d_4 (Conv2D)            (None, 64, 64, 3)         2403      \n",
      "_________________________________________________________________\n",
      "activation (Activation)      (None, 64, 64, 3)         0         \n",
      "=================================================================\n",
      "Total params: 5,437,667\n",
      "Trainable params: 5,420,323\n",
      "Non-trainable params: 17,344\n",
      "_________________________________________________________________\n"
     ]
    }
   ],
   "source": [
    "batch_size = 128\n",
    "EPOCHS = 100\n",
    "LATENT_DIM = 128\n",
    "\n",
    "images_path = glob('data/*')\n",
    "print(\"Dataset Size: \", len(images_path))\n",
    "\n",
    "dataset = tf_dataset(images_path, batch_size)\n",
    "\n",
    "d_model = discriminator()\n",
    "g_model = generator(LATENT_DIM)\n",
    "\n",
    "d_model.summary()\n",
    "g_model.summary()"
   ]
  },
  {
   "cell_type": "code",
   "execution_count": 14,
   "id": "1bf5d94c",
   "metadata": {},
   "outputs": [],
   "source": [
    "gan = GAN(d_model, g_model, LATENT_DIM)\n",
    "loss_fn = tf.keras.losses.BinaryCrossentropy(from_logits = True, label_smoothing = 0.1)\n",
    "d_optimizer = tf.keras.optimizers.Adam(learning_rate = 0.0002, beta_1 = 0.5)\n",
    "g_optimizer = tf.keras.optimizers.Adam(learning_rate = 0.0002, beta_1 = 0.5)\n",
    "gan.compile(d_optimizer, g_optimizer, loss_fn)"
   ]
  },
  {
   "cell_type": "code",
   "execution_count": null,
   "id": "4372ebfe",
   "metadata": {
    "scrolled": false
   },
   "outputs": [
    {
     "name": "stdout",
     "output_type": "stream",
     "text": [
      "  4/169 [..............................] - ETA: 13:36 - d1_loss: 0.6748 - d2_loss: 0.2763 - g_loss: 0.7290"
     ]
    }
   ],
   "source": [
    "n_samples = 25\n",
    "noise = np.random.normal(size = (n_samples, LATENT_DIM))\n",
    "for epoch in range(1):\n",
    "    gan.fit(dataset, epochs = 1)\n",
    "    g_model.save('saved_model/g_model.h5')\n",
    "    d_model.save('saved_model/d_model.h5')\n",
    "#     examples = g_model.predict(noise)\n",
    "#     save_plot(examples, epoch, int(np.sqrt(n_samples)))"
   ]
  },
  {
   "cell_type": "code",
   "execution_count": 78,
   "id": "e5dbd651",
   "metadata": {},
   "outputs": [
    {
     "name": "stdout",
     "output_type": "stream",
     "text": [
      "AxesImage(54,36;334.8x217.44)\n"
     ]
    },
    {
     "data": {
      "image/png": "[encoded data removed]",
      "text/plain": [
       "<Figure size 432x288 with 1 Axes>"
      ]
     },
     "metadata": {
      "needs_background": "light"
     },
     "output_type": "display_data"
    }
   ],
   "source": [
    "for img in dataset.take(1):\n",
    "    print(plt.imshow((img[0] + 1)/2))"
   ]
  },
  {
   "cell_type": "code",
   "execution_count": 63,
   "id": "7e8ca3d5",
   "metadata": {},
   "outputs": [],
   "source": [
    "# img = g_model(np.random.normal(size = (1,128)))\n",
    "# img = (img+1)/2.0\n",
    "# # img = tf.sigmoid(img)\n",
    "# plt.imshow(img[0])"
   ]
  },
  {
   "cell_type": "code",
   "execution_count": 61,
   "id": "073a54f0",
   "metadata": {},
   "outputs": [
    {
     "data": {
      "text/plain": [
       "<PrefetchDataset shapes: (None, 64, 64, None), types: tf.float32>"
      ]
     },
     "execution_count": 61,
     "metadata": {},
     "output_type": "execute_result"
    }
   ],
   "source": [
    "dataset"
   ]
  },
  {
   "cell_type": "code",
   "execution_count": null,
   "id": "64d16c90",
   "metadata": {},
   "outputs": [],
   "source": []
  }
 ],
 "metadata": {
  "kernelspec": {
   "display_name": "Python 3",
   "language": "python",
   "name": "python3"
  },
  "language_info": {
   "codemirror_mode": {
    "name": "ipython",
    "version": 3
   },
   "file_extension": ".py",
   "mimetype": "text/x-python",
   "name": "python",
   "nbconvert_exporter": "python",
   "pygments_lexer": "ipython3",
   "version": "3.8.8"
  }
 },
 "nbformat": 4,
 "nbformat_minor": 5
}
