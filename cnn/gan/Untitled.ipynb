{
 "cells": [
  {
   "cell_type": "code",
   "execution_count": 42,
   "id": "e1a354b1",
   "metadata": {},
   "outputs": [],
   "source": [
    "import itertools\n",
    "import random"
   ]
  },
  {
   "cell_type": "code",
   "execution_count": 50,
   "id": "7aa80fc7",
   "metadata": {},
   "outputs": [],
   "source": [
    "deck = [(1, 'Spade'),(1, 'Heart'),(11, 'Heart'),(1, 'Diamond'),(1, 'Club'),(13, 'Diamond'),(2, 'Spade'),\n",
    "(9, 'Spade'),(9, 'Heart'),(9, 'Diamond'),(9, 'Club'),(10, 'Spade'),(10, 'Heart'),(10, 'Diamond'),\n",
    "(2, 'Heart'),(2, 'Diamond'),(2, 'Club'),(11, 'Club'),(12, 'Diamond'),(12, 'Club'),(3, 'Spade'),(3, 'Heart'),(3, 'Diamond'),\n",
    "(3, 'Club'),(4, 'Spade'),(4, 'Heart'),(4, 'Diamond'),(4, 'Club'),(6, 'Club'),(5, 'Spade'),(5, 'Heart'),\n",
    "(5, 'Diamond'),(5, 'Club'),(6, 'Spade'),(6, 'Heart'),(6, 'Diamond'),(7, 'Spade'),\n",
    "(7, 'Heart'),(7, 'Diamond'),(7, 'Club'),(8, 'Spade'),(8, 'Heart'),(8, 'Diamond'),(8, 'Club'),\n",
    "(10, 'Club'),(11, 'Spade'),(11, 'Diamond'),(12, 'Spade'),(12, 'Heart'),\n",
    "(13, 'Spade'),(13, 'Heart'),(13, 'Club')]\n",
    "\n",
    "random.shuffle(deck)"
   ]
  },
  {
   "cell_type": "code",
   "execution_count": 52,
   "id": "e7f485c6",
   "metadata": {},
   "outputs": [
    {
     "data": {
      "text/plain": [
       "[(10, 'Club'),\n",
       " (12, 'Spade'),\n",
       " (4, 'Heart'),\n",
       " (2, 'Diamond'),\n",
       " (10, 'Diamond'),\n",
       " (2, 'Club'),\n",
       " (7, 'Spade'),\n",
       " (1, 'Heart'),\n",
       " (3, 'Heart'),\n",
       " (9, 'Diamond'),\n",
       " (3, 'Spade'),\n",
       " (12, 'Heart'),\n",
       " (5, 'Club'),\n",
       " (1, 'Club'),\n",
       " (6, 'Spade'),\n",
       " (9, 'Spade'),\n",
       " (8, 'Club'),\n",
       " (7, 'Club'),\n",
       " (7, 'Diamond'),\n",
       " (8, 'Spade'),\n",
       " (11, 'Heart'),\n",
       " (5, 'Spade'),\n",
       " (12, 'Diamond'),\n",
       " (9, 'Heart'),\n",
       " (13, 'Spade'),\n",
       " (3, 'Diamond'),\n",
       " (6, 'Diamond'),\n",
       " (6, 'Heart'),\n",
       " (5, 'Diamond'),\n",
       " (12, 'Club'),\n",
       " (10, 'Spade'),\n",
       " (11, 'Spade'),\n",
       " (11, 'Club'),\n",
       " (4, 'Diamond'),\n",
       " (4, 'Club'),\n",
       " (1, 'Diamond'),\n",
       " (2, 'Heart'),\n",
       " (2, 'Spade'),\n",
       " (10, 'Heart'),\n",
       " (9, 'Club'),\n",
       " (1, 'Spade'),\n",
       " (13, 'Heart'),\n",
       " (4, 'Spade'),\n",
       " (13, 'Club'),\n",
       " (8, 'Heart'),\n",
       " (13, 'Diamond'),\n",
       " (7, 'Heart'),\n",
       " (6, 'Club'),\n",
       " (5, 'Heart'),\n",
       " (11, 'Diamond'),\n",
       " (3, 'Club'),\n",
       " (8, 'Diamond')]"
      ]
     },
     "execution_count": 52,
     "metadata": {},
     "output_type": "execute_result"
    }
   ],
   "source": [
    "deck"
   ]
  },
  {
   "cell_type": "code",
   "execution_count": 53,
   "id": "1469ba49",
   "metadata": {},
   "outputs": [],
   "source": [
    "def swap(deck):\n",
    "    a = []\n",
    "    length_ = len(deck)//2\n",
    "    for i in range(length_):\n",
    "        a.append(deck[i])\n",
    "        a.append(deck[i + length_])\n",
    "    return a"
   ]
  },
  {
   "cell_type": "code",
   "execution_count": 54,
   "id": "e459e773",
   "metadata": {},
   "outputs": [],
   "source": [
    "for i in range(2**10 - 1):\n",
    "    deck = swap(deck)"
   ]
  },
  {
   "cell_type": "code",
   "execution_count": 55,
   "id": "03e6cdc8",
   "metadata": {},
   "outputs": [
    {
     "data": {
      "text/plain": [
       "[(10, 'Club'),\n",
       " (4, 'Heart'),\n",
       " (10, 'Diamond'),\n",
       " (7, 'Spade'),\n",
       " (3, 'Heart'),\n",
       " (3, 'Spade'),\n",
       " (5, 'Club'),\n",
       " (6, 'Spade'),\n",
       " (8, 'Club'),\n",
       " (7, 'Diamond'),\n",
       " (11, 'Heart'),\n",
       " (12, 'Diamond'),\n",
       " (13, 'Spade'),\n",
       " (6, 'Diamond'),\n",
       " (5, 'Diamond'),\n",
       " (10, 'Spade'),\n",
       " (11, 'Club'),\n",
       " (4, 'Club'),\n",
       " (2, 'Heart'),\n",
       " (10, 'Heart'),\n",
       " (1, 'Spade'),\n",
       " (4, 'Spade'),\n",
       " (8, 'Heart'),\n",
       " (7, 'Heart'),\n",
       " (5, 'Heart'),\n",
       " (3, 'Club'),\n",
       " (12, 'Spade'),\n",
       " (2, 'Diamond'),\n",
       " (2, 'Club'),\n",
       " (1, 'Heart'),\n",
       " (9, 'Diamond'),\n",
       " (12, 'Heart'),\n",
       " (1, 'Club'),\n",
       " (9, 'Spade'),\n",
       " (7, 'Club'),\n",
       " (8, 'Spade'),\n",
       " (5, 'Spade'),\n",
       " (9, 'Heart'),\n",
       " (3, 'Diamond'),\n",
       " (6, 'Heart'),\n",
       " (12, 'Club'),\n",
       " (11, 'Spade'),\n",
       " (4, 'Diamond'),\n",
       " (1, 'Diamond'),\n",
       " (2, 'Spade'),\n",
       " (9, 'Club'),\n",
       " (13, 'Heart'),\n",
       " (13, 'Club'),\n",
       " (13, 'Diamond'),\n",
       " (6, 'Club'),\n",
       " (11, 'Diamond'),\n",
       " (8, 'Diamond')]"
      ]
     },
     "execution_count": 55,
     "metadata": {},
     "output_type": "execute_result"
    }
   ],
   "source": [
    "deck"
   ]
  },
  {
   "cell_type": "code",
   "execution_count": 17,
   "id": "ab559b89",
   "metadata": {},
   "outputs": [],
   "source": [
    "j = [0,1,2,3,4,5,6,7,8,9]"
   ]
  },
  {
   "cell_type": "code",
   "execution_count": 23,
   "id": "910de14b",
   "metadata": {},
   "outputs": [
    {
     "data": {
      "text/plain": [
       "[0, 1, 2, 3, 4, 5, 6, 7, 8, 9]"
      ]
     },
     "execution_count": 23,
     "metadata": {},
     "output_type": "execute_result"
    }
   ],
   "source": [
    "for i in range(10000):\n",
    "    j = swap(j)\n",
    "j"
   ]
  },
  {
   "cell_type": "code",
   "execution_count": 39,
   "id": "8b9fc37c",
   "metadata": {},
   "outputs": [
    {
     "data": {
      "text/plain": [
       "[0, 5, 1, 6, 2, 7, 3, 8, 4, 9]"
      ]
     },
     "execution_count": 39,
     "metadata": {},
     "output_type": "execute_result"
    }
   ],
   "source": [
    "for i in range(99995):\n",
    "    j = swap(j)\n",
    "j"
   ]
  }
 ],
 "metadata": {
  "kernelspec": {
   "display_name": "Python 3",
   "language": "python",
   "name": "python3"
  },
  "language_info": {
   "codemirror_mode": {
    "name": "ipython",
    "version": 3
   },
   "file_extension": ".py",
   "mimetype": "text/x-python",
   "name": "python",
   "nbconvert_exporter": "python",
   "pygments_lexer": "ipython3",
   "version": "3.8.8"
  }
 },
 "nbformat": 4,
 "nbformat_minor": 5
}
